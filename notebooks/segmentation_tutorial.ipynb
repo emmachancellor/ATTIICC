{
 "cells": [
  {
   "cell_type": "code",
   "execution_count": 1,
   "metadata": {},
   "outputs": [
    {
     "data": {
      "text/plain": [
       "<module 'attiicc' from '/media/ss4tbSSD/EDYER/nanowell_processing/ATTIICC/attiicc/__init__.py'>"
      ]
     },
     "execution_count": 1,
     "metadata": {},
     "output_type": "execute_result"
    }
   ],
   "source": [
    "import attiicc as ac\n",
    "from attiicc.segmentation.sam import SamSegmenter\n",
    "import os\n",
    "from experiment import NanoExperiment\n",
    "from importlib import reload\n",
    "reload(ac)"
   ]
  },
  {
   "cell_type": "code",
   "execution_count": 2,
   "metadata": {},
   "outputs": [],
   "source": [
    "image_path = \"/media/ss4tbSSD/EDYER/nanowell_processing/images/p00_0_A01f00d0_2.png\"\n",
    "segment_img_save = \"/media/ss4tbSSD/EDYER/nanowell_processing/sam_test_seg.png\"\n",
    "masks_img_save = \"/media/ss4tbSSD/EDYER/nanowell_processing/sam_test_masks.png\"\n",
    "roi_path = \"/home/ecdyer/labshare/LL07132018/NanoTry20231211/20X_H2O2_3_hours/ROIS\"\n",
    "model_path = \"/media/ss4tbSSD/EDYER/nanowell_processing/weights/sam_vit_h_4b8939.pth\"\n",
    "tif_image_path = \"/media/ss4tbSSD/EDYER/nanowell_processing/p00_0_A01f00d0.TIF\""
   ]
  },
  {
   "cell_type": "code",
   "execution_count": 3,
   "metadata": {},
   "outputs": [
    {
     "name": "stdout",
     "output_type": "stream",
     "text": [
      "CUDA is available.\n",
      "Number of CUDA devices: 1\n",
      "Model Loaded\n"
     ]
    }
   ],
   "source": [
    "test_sam = SamSegmenter(model_path=model_path, image_path=image_path)"
   ]
  },
  {
   "cell_type": "code",
   "execution_count": null,
   "metadata": {},
   "outputs": [],
   "source": [
    "test_sam.plot_segmented_image(save=True, save_path=segment_img_save)\n",
    "test_sam.plot_masks(save=True, save_path=masks_img_save)"
   ]
  },
  {
   "cell_type": "code",
   "execution_count": null,
   "metadata": {},
   "outputs": [],
   "source": [
    "roi, box = test_sam.generate_rois(roi_path=roi_path, validation_plot=True)"
   ]
  },
  {
   "cell_type": "markdown",
   "metadata": {},
   "source": [
    "### Segmenting a Whole Experiment of Images"
   ]
  },
  {
   "cell_type": "code",
   "execution_count": 2,
   "metadata": {},
   "outputs": [
    {
     "name": "stdout",
     "output_type": "stream",
     "text": [
      "Experiment Structure \n",
      "            segment_channel: 3 \n",
      "            field_id: f \n",
      "            field_num: 2 \n",
      "            field_leading_zero: True \n",
      "            channel_id: d \n",
      "            channel_num: 4 \n",
      "            time_point_id: p \n",
      "            time_point_num: 16 \n",
      "            time_point_leading_zero: True\n"
     ]
    }
   ],
   "source": [
    "experiment_path = '/media/ss4tbSSD/EDYER/nanowell_processing/test_data'\n",
    "field_id = 'f'\n",
    "num_fields = 2\n",
    "channel_id = 'd'\n",
    "num_channels = 4\n",
    "time_point_id = 'p'\n",
    "num_time_points = 16\n",
    "segment_channel = 3\n",
    "\n",
    "test_exp = NanoExperiment(experiment_path=experiment_path, \n",
    "                            field_id=field_id, \n",
    "                            num_fields=num_fields,\n",
    "                            channel_id=channel_id, \n",
    "                            num_channels=num_channels, \n",
    "                            time_point_id=time_point_id,\n",
    "                            num_time_points=num_time_points, \n",
    "                            segment_channel=segment_channel, \n",
    "                            field_leading_zero=True,\n",
    "                            time_point_leading_zero=True)\n",
    "\n",
    "print(test_exp.structure)"
   ]
  },
  {
   "cell_type": "code",
   "execution_count": 3,
   "metadata": {},
   "outputs": [
    {
     "name": "stdout",
     "output_type": "stream",
     "text": [
      "(2/32)  Converting image scan_Top Slide_R_p01_0_A01f00d3.TIF to .png\n",
      "scan_Top Slide_R_p01_0_A01f00d3\n",
      "/media/ss4tbSSD/EDYER/nanowell_processing/test_data/f00d3_png/scan_Top Slide_R_p01_0_A01f00d3\n",
      "(3/32)  Converting image scan_Top Slide_R_p12_0_A01f00d3.TIF to .png\n",
      "scan_Top Slide_R_p12_0_A01f00d3\n",
      "/media/ss4tbSSD/EDYER/nanowell_processing/test_data/f00d3_png/scan_Top Slide_R_p12_0_A01f00d3\n",
      "(8/32)  Converting image scan_Top Slide_R_p04_0_A01f00d3.TIF to .png\n",
      "scan_Top Slide_R_p04_0_A01f00d3\n",
      "/media/ss4tbSSD/EDYER/nanowell_processing/test_data/f00d3_png/scan_Top Slide_R_p04_0_A01f00d3\n",
      "(10/32)  Converting image scan_Top Slide_R_p02_0_A01f00d3.TIF to .png\n",
      "scan_Top Slide_R_p02_0_A01f00d3\n",
      "/media/ss4tbSSD/EDYER/nanowell_processing/test_data/f00d3_png/scan_Top Slide_R_p02_0_A01f00d3\n",
      "(11/32)  Converting image scan_Top Slide_R_p05_0_A01f00d3.TIF to .png\n",
      "scan_Top Slide_R_p05_0_A01f00d3\n",
      "/media/ss4tbSSD/EDYER/nanowell_processing/test_data/f00d3_png/scan_Top Slide_R_p05_0_A01f00d3\n",
      "(12/32)  Converting image scan_Top Slide_R_p08_0_A01f00d3.TIF to .png\n",
      "scan_Top Slide_R_p08_0_A01f00d3\n",
      "/media/ss4tbSSD/EDYER/nanowell_processing/test_data/f00d3_png/scan_Top Slide_R_p08_0_A01f00d3\n",
      "(16/32)  Converting image scan_Top Slide_R_p07_0_A01f00d3.TIF to .png\n",
      "scan_Top Slide_R_p07_0_A01f00d3\n",
      "/media/ss4tbSSD/EDYER/nanowell_processing/test_data/f00d3_png/scan_Top Slide_R_p07_0_A01f00d3\n",
      "(17/32)  Converting image scan_Top Slide_R_p06_0_A01f00d3.TIF to .png\n",
      "scan_Top Slide_R_p06_0_A01f00d3\n",
      "/media/ss4tbSSD/EDYER/nanowell_processing/test_data/f00d3_png/scan_Top Slide_R_p06_0_A01f00d3\n",
      "(19/32)  Converting image scan_Top Slide_R_p13_0_A01f00d3.TIF to .png\n",
      "scan_Top Slide_R_p13_0_A01f00d3\n",
      "/media/ss4tbSSD/EDYER/nanowell_processing/test_data/f00d3_png/scan_Top Slide_R_p13_0_A01f00d3\n",
      "(20/32)  Converting image scan_Top Slide_R_p15_0_A01f00d3.TIF to .png\n",
      "scan_Top Slide_R_p15_0_A01f00d3\n",
      "/media/ss4tbSSD/EDYER/nanowell_processing/test_data/f00d3_png/scan_Top Slide_R_p15_0_A01f00d3\n",
      "(22/32)  Converting image scan_Top Slide_R_p11_0_A01f00d3.TIF to .png\n",
      "scan_Top Slide_R_p11_0_A01f00d3\n",
      "/media/ss4tbSSD/EDYER/nanowell_processing/test_data/f00d3_png/scan_Top Slide_R_p11_0_A01f00d3\n",
      "(23/32)  Converting image scan_Top Slide_R_p14_0_A01f00d3.TIF to .png\n",
      "scan_Top Slide_R_p14_0_A01f00d3\n",
      "/media/ss4tbSSD/EDYER/nanowell_processing/test_data/f00d3_png/scan_Top Slide_R_p14_0_A01f00d3\n",
      "(24/32)  Converting image scan_Top Slide_R_p00_0_A01f00d3.TIF to .png\n",
      "scan_Top Slide_R_p00_0_A01f00d3\n",
      "/media/ss4tbSSD/EDYER/nanowell_processing/test_data/f00d3_png/scan_Top Slide_R_p00_0_A01f00d3\n",
      "(26/32)  Converting image scan_Top Slide_R_p09_0_A01f00d3.TIF to .png\n",
      "scan_Top Slide_R_p09_0_A01f00d3\n",
      "/media/ss4tbSSD/EDYER/nanowell_processing/test_data/f00d3_png/scan_Top Slide_R_p09_0_A01f00d3\n",
      "(28/32)  Converting image scan_Top Slide_R_p03_0_A01f00d3.TIF to .png\n",
      "scan_Top Slide_R_p03_0_A01f00d3\n",
      "/media/ss4tbSSD/EDYER/nanowell_processing/test_data/f00d3_png/scan_Top Slide_R_p03_0_A01f00d3\n",
      "(31/32)  Converting image scan_Top Slide_R_p10_0_A01f00d3.TIF to .png\n",
      "scan_Top Slide_R_p10_0_A01f00d3\n",
      "/media/ss4tbSSD/EDYER/nanowell_processing/test_data/f00d3_png/scan_Top Slide_R_p10_0_A01f00d3\n",
      "CUDA is available.\n",
      "Number of CUDA devices: 1\n",
      "Model Loaded\n",
      "Total number of ROIs:  0\n",
      "Total number of ROIs:  0\n",
      "Total number of ROIs:  0\n",
      "Total number of ROIs:  0\n",
      "Total number of ROIs:  0\n",
      "Total number of ROIs:  0\n",
      "Total number of ROIs:  0\n",
      "Total number of ROIs:  0\n",
      "Total number of ROIs:  1\n"
     ]
    },
    {
     "ename": "KeyError",
     "evalue": "'p08_ff00_well8'",
     "output_type": "error",
     "traceback": [
      "\u001b[0;31m---------------------------------------------------------------------------\u001b[0m",
      "\u001b[0;31mKeyError\u001b[0m                                  Traceback (most recent call last)",
      "Cell \u001b[0;32mIn[3], line 3\u001b[0m\n\u001b[1;32m      1\u001b[0m model_path \u001b[38;5;241m=\u001b[39m \u001b[38;5;124m\"\u001b[39m\u001b[38;5;124m/media/ss4tbSSD/EDYER/nanowell_processing/weights/sam_vit_h_4b8939.pth\u001b[39m\u001b[38;5;124m\"\u001b[39m\n\u001b[0;32m----> 3\u001b[0m \u001b[43mtest_exp\u001b[49m\u001b[38;5;241;43m.\u001b[39;49m\u001b[43msegment_nanowells\u001b[49m\u001b[43m(\u001b[49m\u001b[43mmodel_path\u001b[49m\u001b[38;5;241;43m=\u001b[39;49m\u001b[43mmodel_path\u001b[49m\u001b[43m,\u001b[49m\u001b[43m \u001b[49m\u001b[43mconvert_png\u001b[49m\u001b[38;5;241;43m=\u001b[39;49m\u001b[38;5;28;43;01mTrue\u001b[39;49;00m\u001b[43m)\u001b[49m\n",
      "File \u001b[0;32m/media/ss4tbSSD/EDYER/nanowell_processing/ATTIICC/experiment.py:217\u001b[0m, in \u001b[0;36mNanoExperiment.segment_nanowells\u001b[0;34m(self, model_path, model_type, output_directory, convert_png)\u001b[0m\n\u001b[1;32m    215\u001b[0m                 well_dict[well_name] \u001b[38;5;241m=\u001b[39m [[roi][result_index], [box][result_index]]\n\u001b[1;32m    216\u001b[0m             \u001b[38;5;28;01melse\u001b[39;00m:\n\u001b[0;32m--> 217\u001b[0m                 well_dict[well_name] \u001b[38;5;241m=\u001b[39m [\u001b[43mwell_dict\u001b[49m\u001b[43m[\u001b[49m\u001b[43mwell_name\u001b[49m\u001b[43m]\u001b[49m[\u001b[38;5;241m0\u001b[39m] \u001b[38;5;241m+\u001b[39m [roi][result_index], well_dict[well_name][\u001b[38;5;241m1\u001b[39m] \u001b[38;5;241m+\u001b[39m [box][result_index]]\n\u001b[1;32m    218\u001b[0m \u001b[38;5;28;01mreturn\u001b[39;00m well_dict\n",
      "\u001b[0;31mKeyError\u001b[0m: 'p08_ff00_well8'"
     ]
    }
   ],
   "source": [
    "model_path = \"/media/ss4tbSSD/EDYER/nanowell_processing/weights/sam_vit_h_4b8939.pth\"\n",
    "\n",
    "test_exp.segment_nanowells(model_path=model_path, convert_png=True)"
   ]
  }
 ],
 "metadata": {
  "kernelspec": {
   "display_name": "sam",
   "language": "python",
   "name": "python3"
  },
  "language_info": {
   "codemirror_mode": {
    "name": "ipython",
    "version": 3
   },
   "file_extension": ".py",
   "mimetype": "text/x-python",
   "name": "python",
   "nbconvert_exporter": "python",
   "pygments_lexer": "ipython3",
   "version": "3.8.18"
  }
 },
 "nbformat": 4,
 "nbformat_minor": 2
}
