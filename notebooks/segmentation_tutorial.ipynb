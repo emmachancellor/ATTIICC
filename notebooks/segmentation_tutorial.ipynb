{
 "cells": [
  {
   "cell_type": "code",
   "execution_count": 1,
   "metadata": {},
   "outputs": [
    {
     "data": {
      "text/plain": [
       "<module 'attiicc' from '/media/ss4tbSSD/EDYER/nanowell_processing/ATTIICC/attiicc/__init__.py'>"
      ]
     },
     "execution_count": 1,
     "metadata": {},
     "output_type": "execute_result"
    }
   ],
   "source": [
    "import attiicc as ac\n",
    "from attiicc.segmentation.sam import SamSegmenter\n",
    "import os\n",
    "from importlib import reload\n",
    "reload(ac)"
   ]
  },
  {
   "cell_type": "code",
   "execution_count": 2,
   "metadata": {},
   "outputs": [],
   "source": [
    "image_path = \"/media/ss4tbSSD/EDYER/nanowell_processing/images/p00_0_A01f00d0_2.png\"\n",
    "segment_img_save = \"/media/ss4tbSSD/EDYER/nanowell_processing/sam_test_seg.png\"\n",
    "masks_img_save = \"/media/ss4tbSSD/EDYER/nanowell_processing/sam_test_masks.png\"\n",
    "roi_path = \"/home/ecdyer/labshare/LL07132018/NanoTry20231211/20X_H2O2_3_hours/ROIS\"\n",
    "model_path = \"/media/ss4tbSSD/EDYER/nanowell_processing/weights/sam_vit_h_4b8939.pth\"\n",
    "tif_image_path = \"/media/ss4tbSSD/EDYER/nanowell_processing/p00_0_A01f00d0.TIF\""
   ]
  },
  {
   "cell_type": "code",
   "execution_count": 3,
   "metadata": {},
   "outputs": [
    {
     "name": "stdout",
     "output_type": "stream",
     "text": [
      "CUDA is available.\n",
      "Number of CUDA devices: 1\n",
      "Model Loaded\n"
     ]
    }
   ],
   "source": [
    "test_sam = SamSegmenter(model_path=model_path, image_path=image_path)"
   ]
  },
  {
   "cell_type": "code",
   "execution_count": null,
   "metadata": {},
   "outputs": [],
   "source": [
    "test_sam.plot_segmented_image(save=True, save_path=segment_img_save)\n",
    "test_sam.plot_masks(save=True, save_path=masks_img_save)"
   ]
  },
  {
   "cell_type": "code",
   "execution_count": null,
   "metadata": {},
   "outputs": [],
   "source": [
    "roi, box = test_sam.generate_rois(roi_path=roi_path, validation_plot=True)"
   ]
  },
  {
   "cell_type": "markdown",
   "metadata": {},
   "source": [
    "### Cropping Images with ROIs"
   ]
  },
  {
   "cell_type": "code",
   "execution_count": 5,
   "metadata": {},
   "outputs": [
    {
     "name": "stdout",
     "output_type": "stream",
     "text": [
      "[[89, 0, 123, 122], [229, 0, 125, 127], [372, 3, 122, 125], [510, 3, 124, 131], [650, 4, 123, 123], [789, 6, 124, 128], [931, 7, 122, 128], [1072, 10, 121, 129], [16, 111, 125, 130], [158, 115, 125, 130], [298, 117, 123, 129], [438, 121, 122, 130], [577, 126, 124, 126], [719, 126, 121, 126], [858, 130, 123, 127], [998, 131, 123, 131], [1139, 133, 122, 132], [87, 234, 122, 129], [226, 238, 120, 128], [366, 241, 122, 126], [506, 242, 124, 130], [645, 246, 123, 130], [782, 247, 126, 131], [928, 252, 119, 127], [1067, 251, 123, 133], [1200, 255, 127, 131], [15, 354, 120, 129], [154, 358, 121, 129], [293, 360, 122, 127], [307, 362, 249, 130], [575, 366, 121, 127], [705, 367, 132, 131], [855, 371, 119, 128], [993, 373, 124, 130], [1136, 375, 119, 129], [81, 477, 123, 131], [221, 480, 121, 128], [361, 485, 121, 127], [503, 487, 119, 125], [642, 488, 121, 129], [781, 491, 122, 127], [913, 492, 130, 132], [1062, 495, 122, 132], [1205, 498, 119, 129], [9, 597, 118, 128], [149, 599, 121, 129], [288, 603, 123, 127], [429, 606, 122, 128], [570, 608, 119, 127], [708, 611, 122, 127], [842, 611, 128, 131], [978, 617, 134, 128], [1131, 618, 121, 129], [76, 719, 123, 129], [216, 721, 121, 132], [356, 726, 124, 128], [496, 725, 126, 132], [633, 730, 126, 130], [777, 734, 121, 128], [912, 734, 127, 131], [1054, 734, 125, 134], [1198, 739, 121, 131], [3, 841, 120, 126], [13, 837, 257, 136], [284, 846, 121, 128], [424, 850, 123, 125], [564, 850, 121, 128], [703, 852, 123, 129], [842, 853, 124, 130], [984, 857, 122, 129], [1126, 860, 120, 130]]\n"
     ]
    }
   ],
   "source": [
    "print(box)"
   ]
  },
  {
   "cell_type": "code",
   "execution_count": null,
   "metadata": {},
   "outputs": [],
   "source": []
  }
 ],
 "metadata": {
  "kernelspec": {
   "display_name": "sam",
   "language": "python",
   "name": "python3"
  },
  "language_info": {
   "codemirror_mode": {
    "name": "ipython",
    "version": 3
   },
   "file_extension": ".py",
   "mimetype": "text/x-python",
   "name": "python",
   "nbconvert_exporter": "python",
   "pygments_lexer": "ipython3",
   "version": "3.8.18"
  }
 },
 "nbformat": 4,
 "nbformat_minor": 2
}
