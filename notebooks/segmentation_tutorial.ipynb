{
 "cells": [
  {
   "cell_type": "code",
   "execution_count": 1,
   "metadata": {},
   "outputs": [
    {
     "data": {
      "text/plain": [
       "<module 'attiicc' from '/home/ecdyer/PROJECTS/nanowell_pipeline/ATTIICC/attiicc/__init__.py'>"
      ]
     },
     "execution_count": 1,
     "metadata": {},
     "output_type": "execute_result"
    }
   ],
   "source": [
    "import attiicc as ac\n",
    "from attiicc.segmentation.sam import SamSegmenter\n",
    "import os\n",
    "from experiment import NanoExperiment\n",
    "from importlib import reload\n",
    "reload(ac)"
   ]
  },
  {
   "cell_type": "code",
   "execution_count": 2,
   "metadata": {},
   "outputs": [],
   "source": [
    "image_path = \"/media/ss4tbSSD/EDYER/nanowell_processing/images/p00_0_A01f00d0_2.png\"\n",
    "segment_img_save = \"/media/ss4tbSSD/EDYER/nanowell_processing/sam_test_seg.png\"\n",
    "masks_img_save = \"/media/ss4tbSSD/EDYER/nanowell_processing/sam_test_masks.png\"\n",
    "roi_path = \"/home/ecdyer/labshare/LL07132018/NanoTry20231211/20X_H2O2_3_hours/ROIS\"\n",
    "model_path = \"/media/ss4tbSSD/EDYER/nanowell_processing/weights/sam_vit_h_4b8939.pth\"\n",
    "tif_image_path = \"/media/ss4tbSSD/EDYER/nanowell_processing/p00_0_A01f00d0.TIF\""
   ]
  },
  {
   "cell_type": "code",
   "execution_count": 3,
   "metadata": {},
   "outputs": [
    {
     "name": "stdout",
     "output_type": "stream",
     "text": [
      "CUDA is available.\n",
      "Number of CUDA devices: 1\n",
      "Model Loaded\n"
     ]
    }
   ],
   "source": [
    "test_sam = SamSegmenter(model_path=model_path, image_path=image_path)"
   ]
  },
  {
   "cell_type": "code",
   "execution_count": null,
   "metadata": {},
   "outputs": [],
   "source": [
    "test_sam.plot_segmented_image(save=True, save_path=segment_img_save)\n",
    "test_sam.plot_masks(save=True, save_path=masks_img_save)"
   ]
  },
  {
   "cell_type": "code",
   "execution_count": null,
   "metadata": {},
   "outputs": [],
   "source": [
    "roi, box = test_sam.generate_rois(roi_path=roi_path, validation_plot=True)"
   ]
  },
  {
   "cell_type": "markdown",
   "metadata": {},
   "source": [
    "### Segmenting a Whole Experiment of Images"
   ]
  },
  {
   "cell_type": "code",
   "execution_count": 4,
   "metadata": {},
   "outputs": [
    {
     "name": "stdout",
     "output_type": "stream",
     "text": [
      "Experiment Structure \n",
      "            segment_channel: 3 \n",
      "            field_id: f \n",
      "            field_num: 2 \n",
      "            field_leading_zero: True \n",
      "            channel_id: d \n",
      "            channel_num: 4 \n",
      "            time_point_id: p \n",
      "            time_point_num: 16 \n",
      "            time_point_leading_zero: True\n"
     ]
    }
   ],
   "source": [
    "experiment_path = '/home/ecdyer/PROJECTS/nanowell_pipeline/test_data'\n",
    "field_id = 'f'\n",
    "num_fields = 2\n",
    "channel_id = 'd'\n",
    "num_channels = 4\n",
    "time_point_id = 'p'\n",
    "num_time_points = 16\n",
    "segment_channel = 3\n",
    "\n",
    "test_exp = NanoExperiment(experiment_path=experiment_path, \n",
    "                            field_id=field_id, \n",
    "                            num_fields=num_fields,\n",
    "                            channel_id=channel_id, \n",
    "                            num_channels=num_channels, \n",
    "                            time_point_id=time_point_id,\n",
    "                            num_time_points=num_time_points, \n",
    "                            segment_channel=segment_channel, \n",
    "                            field_leading_zero=True,\n",
    "                            time_point_leading_zero=True)\n",
    "\n",
    "print(test_exp.structure)"
   ]
  },
  {
   "cell_type": "code",
   "execution_count": null,
   "metadata": {},
   "outputs": [],
   "source": [
    "model_path = \"/home/ecdyer/PROJECTS/nanowell_pipeline/weights/sam_vit_h_4b8939.pth\"\n",
    "\n",
    "test_exp.segment_images(model_path=model_path, convert_png=True)"
   ]
  }
 ],
 "metadata": {
  "kernelspec": {
   "display_name": "sam",
   "language": "python",
   "name": "python3"
  },
  "language_info": {
   "codemirror_mode": {
    "name": "ipython",
    "version": 3
   },
   "file_extension": ".py",
   "mimetype": "text/x-python",
   "name": "python",
   "nbconvert_exporter": "python",
   "pygments_lexer": "ipython3",
   "version": "3.8.18"
  }
 },
 "nbformat": 4,
 "nbformat_minor": 2
}
